{
  "nbformat": 4,
  "nbformat_minor": 0,
  "metadata": {
    "colab": {
      "provenance": []
    },
    "kernelspec": {
      "name": "python3",
      "display_name": "Python 3"
    },
    "language_info": {
      "name": "python"
    }
  },
  "cells": [
    {
      "cell_type": "markdown",
      "source": [
        "# Worksheet 0 - A Tutorial and Assessment on Python and **NumPy**"
      ],
      "metadata": {
        "id": "y0WC7MnS60B7"
      }
    },
    {
      "cell_type": "markdown",
      "source": [
        "**Task - 1:**\n",
        "Create a Python program that converts between different units of measurement."
      ],
      "metadata": {
        "id": "7gHMuJN669ZI"
      }
    },
    {
      "cell_type": "code",
      "source": [
        "def convert():\n",
        "\n",
        "  \"\"\"\n",
        "  Converts between different units of measurement (Length, Weight, Volume).\n",
        "\n",
        "  The user selects a conversion type, choose the unit, input a value, and the function performs the conversion\n",
        "\n",
        "  Returns:\n",
        "  str: The converted value as a string.\n",
        "  \"\"\"\n",
        "  print(\"Choose conversion type:\")\n",
        "  print(\"1. Length (meters <-> feet)\")\n",
        "  print(\"2. Weight (kilograms <-> pounds)\")\n",
        "  print(\"3. Volume (liters <-> gallons)\")\n",
        "\n",
        "\n",
        "  try:\n",
        "    choice = int(input(\"Enter 1,2,or 3:\"))\n",
        "\n",
        "    if choice == 1:\n",
        "      unit = input(\"Enter unit to convert from (m for meters, ft for feet):\").lower()\n",
        "      if unit not in ['m','ft']:\n",
        "        return \"Invalid data.\"\n",
        "\n",
        "    elif choice == 2:\n",
        "      unit = input(\"Enter unit to convert from (kg for kilograms, lbs for pounds):\").lower()\n",
        "      if unit not in ['kg','lbs']:\n",
        "        return \"Invalid data.\"\n",
        "\n",
        "\n",
        "    elif choice == 3:\n",
        "      unit = input(\"Enter unit to convert from (l for liters, gal for gallons):\").lower()\n",
        "      if unit not in ['l','gal']:\n",
        "        return \"Invalid data.\"\n",
        "\n",
        "    else:\n",
        "      return \"Invalid choice.\"\n",
        "\n",
        "\n",
        "    value = float(input(\"Enter value to convert:\"))\n",
        "    conversion = {\n",
        "        'm':(value * 3.28084,'feet'),\n",
        "        'ft':(value / 3.28084,'meters'),\n",
        "        'kg':(value * 2.20462, 'lbs'),\n",
        "        'lbs':(value / 2.20462, 'kg'),\n",
        "        'l':(value * 0.264172, 'gallons'),\n",
        "        'gal':(value / 0.264172, 'liters')\n",
        "    }\n",
        "    result,converted_unit = conversion[unit]\n",
        "    return f\"{value} {unit} ={result:.2f} {converted_unit}\"\n",
        "  except ValueError:\n",
        "    return \"Invalid input. Please enter a numerical value\"\n",
        "\n",
        "print(convert())"
      ],
      "metadata": {
        "colab": {
          "base_uri": "https://localhost:8080/"
        },
        "id": "ueNK3F8Z7Bj9",
        "outputId": "f6af3496-b920-4e98-c86b-e33d250f0469"
      },
      "execution_count": null,
      "outputs": [
        {
          "output_type": "stream",
          "name": "stdout",
          "text": [
            "Choose conversion type:\n",
            "1. Length (meters <-> feet)\n",
            "2. Weight (kilograms <-> pounds)\n",
            "3. Volume (liters <-> gallons)\n",
            "Enter 1,2,or 3:1\n",
            "Enter unit to convert from (m for meters, ft for feet):m\n",
            "Enter value to convert:5\n",
            "5.0 m =16.40 feet\n"
          ]
        }
      ]
    },
    {
      "cell_type": "markdown",
      "source": [
        "**Task - 2:**\n",
        "Create a Python program that performs various mathematical operations on a list of numbers."
      ],
      "metadata": {
        "id": "K0ySCSGgFruB"
      }
    },
    {
      "cell_type": "code",
      "source": [
        "def calculate_sum(numbers):\n",
        "  \"\"\"\n",
        "  Return the sum of a list of number.\n",
        "\n",
        "  parameters: A list of numeric values.\n",
        "\n",
        "  return: The sum of the numbers.\n",
        "  \"\"\"\n",
        "  return sum(numbers)\n",
        "\n",
        "def find_average(numbers):\n",
        "  \"\"\"\n",
        "  Return the average of a list of numbers.\n",
        "\n",
        "  parameters: A list of numeric values.\n",
        "\n",
        "  return: The average of the numbers.\n",
        "  \"\"\"\n",
        "  return sum(numbers) / len(numbers)\n",
        "\n",
        "def find_maximum(numbers):\n",
        "  \"\"\"\n",
        "  Return the maximum of a list of numbers.\n",
        "\n",
        "  parameters: A list of numeric values.\n",
        "\n",
        "  return: The maximum of the numbers.\n",
        "  \"\"\"\n",
        "  return max(numbers)\n",
        "\n",
        "def find_minimum(numbers):\n",
        "  \"\"\"\n",
        "  Return the minimum of a list of numbers.\n",
        "\n",
        "  parameters: A list of numeric values.\n",
        "\n",
        "  return: The minimum of the numbers.\n",
        "  \"\"\"\n",
        "  return min(numbers)\n",
        "\n",
        "\n",
        "def main():\n",
        "  print(\"Select an operation:\")\n",
        "  print(\"1. Calculate the sum\")\n",
        "  print(\"2. Find the average\")\n",
        "  print(\"3. Find the maximum\")\n",
        "  print(\"4. Find the minimum\")\n",
        "\n",
        "\n",
        "  try:\n",
        "    operation = int(input(\"Enter the operation number: \"))\n",
        "    if operation not in [1,2,3,4]:\n",
        "      print(\"Invalid operation number.\")\n",
        "\n",
        "    numbers_input = input(\"Enter List of number\")\n",
        "    numbers =list(map(float,numbers_input.split()))\n",
        "\n",
        "    if operation == 1:\n",
        "      print(\"The sum of the numbers is:\", calculate_sum(numbers))\n",
        "    elif operation == 2:\n",
        "      print(\"The average of the numbers is:\", find_average(numbers))\n",
        "    elif operation == 3:\n",
        "      print(\"The maximum of the numbers is:\", find_maximum(numbers))\n",
        "    elif operation == 4:\n",
        "      print(\"The minimum of the numbers is:\", find_minimum(numbers))\n",
        "  except ValueError:\n",
        "    print(\"Invalid input. Please enter a list of numbers.\")\n",
        "\n",
        "if __name__ == \"__main__\":\n",
        "  main()"
      ],
      "metadata": {
        "colab": {
          "base_uri": "https://localhost:8080/"
        },
        "id": "XOgqg0DgFuBH",
        "outputId": "e21cb2f2-55a6-4d39-ebd2-fb8f4fa6fd18"
      },
      "execution_count": null,
      "outputs": [
        {
          "output_type": "stream",
          "name": "stdout",
          "text": [
            "Select an operation:\n",
            "1. Calculate the sum\n",
            "2. Find the average\n",
            "3. Find the maximum\n",
            "4. Find the minimum\n",
            "Enter the operation number: 1\n",
            "Enter List of number1 2 3 4 5 6 \n",
            "The sum of the numbers is: 21.0\n"
          ]
        }
      ]
    },
    {
      "cell_type": "markdown",
      "source": [
        "**4.2 Exercise on List Manipulation:**"
      ],
      "metadata": {
        "id": "ZliDXNvrLRBf"
      }
    },
    {
      "cell_type": "markdown",
      "source": [
        "1. Extract Every Other Element:\n",
        "\n",
        "Write a Python function that extracts every other element from a list, starting from the first element.\n",
        "\n",
        "\n"
      ],
      "metadata": {
        "id": "H1gyY4zXLxYX"
      }
    },
    {
      "cell_type": "code",
      "source": [
        "def extract_every_other(lst):\n",
        "  return lst[::2]\n",
        "\n",
        "list1=[1,2,3,4,5,6]\n",
        "print(\" Extract Every Other Element: \", extract_every_other(list1))\n"
      ],
      "metadata": {
        "colab": {
          "base_uri": "https://localhost:8080/"
        },
        "id": "yRZ2pB6CLAZN",
        "outputId": "0f33f740-aef4-4446-cc8b-134d4dbfe26f"
      },
      "execution_count": null,
      "outputs": [
        {
          "output_type": "stream",
          "name": "stdout",
          "text": [
            "1. Extract Every Other Element:  [1, 3, 5]\n"
          ]
        }
      ]
    },
    {
      "cell_type": "markdown",
      "source": [
        "2. Slice a Sublist:\n",
        "Write a Python function that returns a sublist from a given list, starting from a specified index and\n",
        "ending at another specified index."
      ],
      "metadata": {
        "id": "KzuJxNYcOMG_"
      }
    },
    {
      "cell_type": "code",
      "source": [
        "def get_sublist(lst,start,end):\n",
        "  return lst[start:end+1]\n",
        "\n",
        "list2=[1,2,3,4,5,6]\n",
        "print(\"Slice a Sublist: \", get_sublist(list2,2,4))"
      ],
      "metadata": {
        "colab": {
          "base_uri": "https://localhost:8080/"
        },
        "id": "Zx-MkPNEOMwW",
        "outputId": "19b7b847-e231-4a0e-b951-0ea603542fd9"
      },
      "execution_count": null,
      "outputs": [
        {
          "output_type": "stream",
          "name": "stdout",
          "text": [
            "2. Slice a Sublist:  [3, 4, 5]\n"
          ]
        }
      ]
    },
    {
      "cell_type": "markdown",
      "source": [
        "3. Reverse a List Using Slicing:\n",
        "Write a Python function that reverses a list using slicing."
      ],
      "metadata": {
        "id": "roZIUoQVOqD6"
      }
    },
    {
      "cell_type": "code",
      "source": [
        "def reverse_list(lst):\n",
        "  return lst[::-1]\n",
        "\n",
        "list3 = [1,2,3,4,5]\n",
        "print(\" Reverse List.\", reverse_list(list3))"
      ],
      "metadata": {
        "colab": {
          "base_uri": "https://localhost:8080/"
        },
        "id": "Zd3tIbbaOscu",
        "outputId": "bb015c00-356a-490f-fae8-e24d2b2e6569"
      },
      "execution_count": null,
      "outputs": [
        {
          "output_type": "stream",
          "name": "stdout",
          "text": [
            "3. Reverse List. [5, 4, 3, 2, 1]\n"
          ]
        }
      ]
    },
    {
      "cell_type": "markdown",
      "source": [
        "4. Remove the First and Last Elements:\n",
        "Write a Python function that removes the first and last elements of a list and returns the resulting\n",
        "sublist."
      ],
      "metadata": {
        "id": "enOz0vSqPBb9"
      }
    },
    {
      "cell_type": "code",
      "source": [
        "def remove_first_last(lst):\n",
        "  return lst[1:-1]\n",
        "\n",
        "list4 = [1,2,3,4,5]\n",
        "print(\" Remove First and Last: \", remove_first_last(list4))"
      ],
      "metadata": {
        "colab": {
          "base_uri": "https://localhost:8080/"
        },
        "id": "_zmeDQIFPEfi",
        "outputId": "c73b7165-4997-4f34-a340-dc3a1001cab6"
      },
      "execution_count": null,
      "outputs": [
        {
          "output_type": "stream",
          "name": "stdout",
          "text": [
            "4. Remove First and Last:  [2, 3, 4]\n"
          ]
        }
      ]
    },
    {
      "cell_type": "markdown",
      "source": [
        "5. Get the First n Elements:"
      ],
      "metadata": {
        "id": "d4q4ht4yPbze"
      }
    },
    {
      "cell_type": "code",
      "source": [
        "def get_first_n(lst,n):\n",
        "  return lst[:n]\n",
        "\n",
        "list5 = [1,2,3,4,5]\n",
        "print(\" Get First n Elements:\", get_first_n(list5,3))"
      ],
      "metadata": {
        "colab": {
          "base_uri": "https://localhost:8080/"
        },
        "id": "t4tvVEIRPfhO",
        "outputId": "1fac83b6-6489-46a4-da9c-d64cb694273d"
      },
      "execution_count": null,
      "outputs": [
        {
          "output_type": "stream",
          "name": "stdout",
          "text": [
            "5. Get First n Elements: [1, 2, 3]\n"
          ]
        }
      ]
    },
    {
      "cell_type": "markdown",
      "source": [
        "6. Extract Elements from the End:\n",
        "Write a Python function that extracts the last n elements of a list using slicing."
      ],
      "metadata": {
        "id": "uhFuZMFvP4tP"
      }
    },
    {
      "cell_type": "code",
      "source": [
        "def get_last_n(lst,n):\n",
        "  return lst[-n:] if n>0 else[]\n",
        "\n",
        "list6 = [1,2,3,4,5]\n",
        "print(\"Extract Elements from the End:\", get_last_n(list6,2))"
      ],
      "metadata": {
        "colab": {
          "base_uri": "https://localhost:8080/"
        },
        "id": "u-AeHOCKP8DB",
        "outputId": "1dcac6e3-8924-4382-9264-4c68bac3f1d6"
      },
      "execution_count": null,
      "outputs": [
        {
          "output_type": "stream",
          "name": "stdout",
          "text": [
            "6. Extract Elements from the End: [4, 5]\n"
          ]
        }
      ]
    },
    {
      "cell_type": "markdown",
      "source": [
        "7. Extract Elements in Reverse Order:\n",
        "Write a Python function that extracts a list of elements in reverse order starting from the second-to-last\n",
        "element and skipping one element in between."
      ],
      "metadata": {
        "id": "DkcHRZLSQNT_"
      }
    },
    {
      "cell_type": "code",
      "source": [
        "def reverse_skip(lst):\n",
        "  return lst[-2::-2]\n",
        "\n",
        "list7 = [1,2,3,4,5,6]\n",
        "print(\"Extract Elements in Reverse Order:\", reverse_skip(list7))"
      ],
      "metadata": {
        "colab": {
          "base_uri": "https://localhost:8080/"
        },
        "id": "ELRrIw9TQS_x",
        "outputId": "ed85e1d6-75bb-4dd5-f195-6e0b95401b32"
      },
      "execution_count": null,
      "outputs": [
        {
          "output_type": "stream",
          "name": "stdout",
          "text": [
            "7. Extract Elements in Reverse Order: [5, 3, 1]\n"
          ]
        }
      ]
    },
    {
      "cell_type": "markdown",
      "source": [
        "**4.3 Exercise on Nested List:**"
      ],
      "metadata": {
        "id": "KkrYhuYeQfFx"
      }
    },
    {
      "cell_type": "markdown",
      "source": [
        "Write a Python function that takes a nested list and flattens it into a single list, where all the elements\n",
        "are in a single dimension."
      ],
      "metadata": {
        "id": "6qNPtQgWQhDi"
      }
    },
    {
      "cell_type": "code",
      "source": [
        "def flatten(lst):\n",
        "  flattened_list = []\n",
        "  for sublist in lst:\n",
        "    for item in sublist:\n",
        "      flattened_list.append(item)\n",
        "  return flattened_list\n",
        "\n",
        "input_list = [[1,2],[3,4],[5]]\n",
        "single_list = flatten(input_list)\n",
        "print(\"Flattened List:\", single_list)"
      ],
      "metadata": {
        "colab": {
          "base_uri": "https://localhost:8080/"
        },
        "id": "QoCsGol4SCLb",
        "outputId": "b320a17c-281a-4d97-d9af-e9b29c287ef7"
      },
      "execution_count": null,
      "outputs": [
        {
          "output_type": "stream",
          "name": "stdout",
          "text": [
            "Flattened List: [1, 2, 3, 4, 5]\n"
          ]
        }
      ]
    },
    {
      "cell_type": "markdown",
      "source": [
        "2. Accessing Nested List Elements:\n",
        "Write a Python function that extracts a specific element from a nested list given its indices."
      ],
      "metadata": {
        "id": "R_UyRhexShnI"
      }
    },
    {
      "cell_type": "code",
      "source": [
        "def access_nested_elements(lst,indices):\n",
        "  for index in indices:\n",
        "    lst = lst[index]\n",
        "  return lst\n",
        "list2 = [[1,2,3],[4,5,6],[7,8,9]]\n",
        "print(\" Access Nested Element:\",access_nested_elements(list2,[1,2]))"
      ],
      "metadata": {
        "colab": {
          "base_uri": "https://localhost:8080/"
        },
        "id": "ljXbU_jRSj5g",
        "outputId": "4183d4f5-3f38-440d-a505-972f9b92334d"
      },
      "execution_count": null,
      "outputs": [
        {
          "output_type": "stream",
          "name": "stdout",
          "text": [
            "2. Access Nested Element: 6\n"
          ]
        }
      ]
    },
    {
      "cell_type": "markdown",
      "source": [
        "3. Sum of All Elements in a Nested List:\n",
        "Write a Python function that calculates the sum of all the numbers in a nested list (regardless of depth)."
      ],
      "metadata": {
        "id": "e0dt8HjFTZEm"
      }
    },
    {
      "cell_type": "code",
      "source": [
        "def sum_nested(lst):\n",
        "  total =0\n",
        "  for item in lst:\n",
        "    if isinstance(item,list):\n",
        "      total+=sum_nested(item)\n",
        "    else:\n",
        "      total+=item\n",
        "  return total\n",
        "\n",
        "list3 = [[1,2],[3,[4,5]],6]\n",
        "print(\"Sum of All Elements\",sum_nested(list3))"
      ],
      "metadata": {
        "colab": {
          "base_uri": "https://localhost:8080/"
        },
        "id": "C25CUKXQTcOa",
        "outputId": "e02f35f1-b25b-4d28-85d1-fdb75644ba0f"
      },
      "execution_count": null,
      "outputs": [
        {
          "output_type": "stream",
          "name": "stdout",
          "text": [
            "3. Sum of All Elements 21\n"
          ]
        }
      ]
    },
    {
      "cell_type": "markdown",
      "source": [
        "4. Remove Specific Element from a Nested List:\n",
        "Write a Python function that removes all occurrences of a specific element from a nested list."
      ],
      "metadata": {
        "id": "TqTtIh-FT3sd"
      }
    },
    {
      "cell_type": "code",
      "source": [
        "def remove_element(lst,elem):\n",
        "  result = []\n",
        "  for item in lst:\n",
        "    if type(item) == list:\n",
        "      new_sublist = remove_element(item,elem)\n",
        "      if new_sublist:\n",
        "        result.append(new_sublist)\n",
        "    elif item != elem:\n",
        "      result.append(item)\n",
        "  return result\n",
        "\n",
        "input_list = [[1,2], [3,2],[4,5]]\n",
        "element =2\n",
        "result = remove_element(input_list,element)\n",
        "print(\"Remove Specific Element:\", result )"
      ],
      "metadata": {
        "colab": {
          "base_uri": "https://localhost:8080/"
        },
        "id": "QSM7MaHCT59g",
        "outputId": "ca216b7d-8102-46b9-df7e-7a3a0bb1c240"
      },
      "execution_count": null,
      "outputs": [
        {
          "output_type": "stream",
          "name": "stdout",
          "text": [
            "4. Remove Specific Element: [[1], [3], [4, 5]]\n"
          ]
        }
      ]
    },
    {
      "cell_type": "markdown",
      "source": [
        "5. Find the Maximum Element in a Nested List:\n",
        "Write a Python function that finds the maximum element in a nested list (regardless of depth)."
      ],
      "metadata": {
        "id": "jEuUrgnNUci0"
      }
    },
    {
      "cell_type": "code",
      "source": [
        "def find_max(lst):\n",
        "  max_val = float('-inf')\n",
        "  for item in lst:\n",
        "    if isinstance(item,list):\n",
        "      max_val = max(max_val,find_max(item))\n",
        "    else:\n",
        "      max_val = max(max_val,item)\n",
        "  return max_val\n",
        "\n",
        "input_list = [[1,2],[3,[4,5]],6]\n",
        "max_value = find_max(input_list)\n",
        "print(f\"Maximum element: {max_value}\")"
      ],
      "metadata": {
        "colab": {
          "base_uri": "https://localhost:8080/"
        },
        "id": "j6TGHqkAUeu4",
        "outputId": "cb714068-9862-4719-a49d-55fc4e915b93"
      },
      "execution_count": null,
      "outputs": [
        {
          "output_type": "stream",
          "name": "stdout",
          "text": [
            "Maximum element: 6\n"
          ]
        }
      ]
    },
    {
      "cell_type": "markdown",
      "source": [
        "6. Count Occurrences of an Element in a Nested List:\n",
        "Write a Python function that counts how many times a specific element appears in a nested list."
      ],
      "metadata": {
        "id": "Xd3PzmjxVH0G"
      }
    },
    {
      "cell_type": "code",
      "source": [
        "def count_occurrences(lst,elem):\n",
        "  count =0\n",
        "  for item in lst:\n",
        "    if isinstance(item,list):\n",
        "      count+= count_occurrences(item,elem)\n",
        "    elif item == elem:\n",
        "      count+=1\n",
        "  return count\n",
        "\n",
        "list6=[[1,2],[2,3],[2,4]]\n",
        "print(\"6 Count Occurences:\", count_occurrences(list6,2))\n"
      ],
      "metadata": {
        "colab": {
          "base_uri": "https://localhost:8080/"
        },
        "id": "nH4Qp4OhVIbq",
        "outputId": "f77bafe8-3ba8-49e4-bfe3-9593de7c42a8"
      },
      "execution_count": null,
      "outputs": [
        {
          "output_type": "stream",
          "name": "stdout",
          "text": [
            "6 Count Occurences: 3\n"
          ]
        }
      ]
    },
    {
      "cell_type": "markdown",
      "source": [
        "7. Flatten a List of Lists of Lists:\n",
        "Write a Python function that flattens a list of lists of lists into a single list, regardless of the depth."
      ],
      "metadata": {
        "id": "sKJ-f_srWDfW"
      }
    },
    {
      "cell_type": "code",
      "source": [
        "def deep_flatten(lst):\n",
        "  flat_list = []\n",
        "  for item in lst:\n",
        "    if isinstance(item,list):\n",
        "      flat_list.extend(deep_flatten(item))\n",
        "    else:\n",
        "      flat_list.append(item)\n",
        "  return flat_list\n",
        "\n",
        "list7 = [[[1,2],[3,4]],[[5,6],[7,8]]]\n",
        "print(\"Deep Flatten List:\", deep_flatten(list7))"
      ],
      "metadata": {
        "colab": {
          "base_uri": "https://localhost:8080/"
        },
        "id": "4oNx16ucWGJq",
        "outputId": "37e960da-6746-4239-e109-5d0378bd4cf1"
      },
      "execution_count": null,
      "outputs": [
        {
          "output_type": "stream",
          "name": "stdout",
          "text": [
            "Deep Flatten List: [1, 2, 3, 4, 5, 6, 7, 8]\n"
          ]
        }
      ]
    },
    {
      "cell_type": "markdown",
      "source": [
        "8. Nested List Average:\n",
        "Write a Python function that calculates the average of all elements in a nested list."
      ],
      "metadata": {
        "id": "Gi7RN08zWpgb"
      }
    },
    {
      "cell_type": "code",
      "source": [
        "def average_nested(lst):\n",
        "  flat_lst = deep_flatten(lst)\n",
        "  return sum(flat_lst) / len(flat_lst)\n",
        "\n",
        "list8 = [[1,2],[3,4],[5,6]]\n",
        "print(\"Nested List Average:\",average_nested(list8))"
      ],
      "metadata": {
        "colab": {
          "base_uri": "https://localhost:8080/"
        },
        "id": "ECg0RBiLWr_i",
        "outputId": "49e6d380-e08c-4535-d797-3d8d76498064"
      },
      "execution_count": null,
      "outputs": [
        {
          "output_type": "stream",
          "name": "stdout",
          "text": [
            "Nested List Average: 3.5\n"
          ]
        }
      ]
    },
    {
      "cell_type": "markdown",
      "source": [
        "**Basic Vector and Matrix Operation with Numpy.**"
      ],
      "metadata": {
        "id": "ixrWjnPJYJHA"
      }
    },
    {
      "cell_type": "markdown",
      "source": [
        "Problem - 1: Array Creation:"
      ],
      "metadata": {
        "id": "zzsHRQKEYLN1"
      }
    },
    {
      "cell_type": "markdown",
      "source": [
        "1. Initialize an empty array with size 2X2."
      ],
      "metadata": {
        "id": "p3vYP4L8LOtK"
      }
    },
    {
      "cell_type": "code",
      "source": [
        "import numpy as np\n",
        "\n",
        "empty_arr = np.empty((2,2))\n",
        "print(\"Empty Array (2*2):\\n\", empty_arr)"
      ],
      "metadata": {
        "id": "RlZf6sfPYRx5",
        "colab": {
          "base_uri": "https://localhost:8080/"
        },
        "outputId": "520cbfd7-1847-4f2d-d341-009bdcbf1c3d"
      },
      "execution_count": 9,
      "outputs": [
        {
          "output_type": "stream",
          "name": "stdout",
          "text": [
            "Empty Array (2*2):\n",
            " [[2.0165116e-316 0.0000000e+000]\n",
            " [1.5810101e-322 5.3325770e-317]]\n"
          ]
        }
      ]
    },
    {
      "cell_type": "markdown",
      "source": [
        "\n",
        "\n",
        "\n",
        "2. Initialize an all one array with size 4X2."
      ],
      "metadata": {
        "id": "B1fIcQ-8Lq6R"
      }
    },
    {
      "cell_type": "code",
      "source": [
        "ones_arr = np.ones((4,2))\n",
        "print(\"All Ones Array (4*2):\\n\", ones_arr)"
      ],
      "metadata": {
        "colab": {
          "base_uri": "https://localhost:8080/"
        },
        "id": "JfOBnIDtLvDn",
        "outputId": "07757534-4d81-4b46-c658-ed13a3cb0555"
      },
      "execution_count": 10,
      "outputs": [
        {
          "output_type": "stream",
          "name": "stdout",
          "text": [
            "All Ones Array (4*2):\n",
            " [[1. 1.]\n",
            " [1. 1.]\n",
            " [1. 1.]\n",
            " [1. 1.]]\n"
          ]
        }
      ]
    },
    {
      "cell_type": "markdown",
      "source": [
        "3. Return a new array of given shape and type, filled with fill value.{Hint: np.full}"
      ],
      "metadata": {
        "id": "YrZKbAqGMB53"
      }
    },
    {
      "cell_type": "code",
      "source": [
        "fill_value_array = np.full((3,3),7)\n",
        "print(\"Array Filled with 7 (3*3):\\n\",fill_value_array)"
      ],
      "metadata": {
        "colab": {
          "base_uri": "https://localhost:8080/"
        },
        "id": "dWUbKh2EMDvF",
        "outputId": "4b967470-6ca4-4713-ba1b-55a707ddaa10"
      },
      "execution_count": 12,
      "outputs": [
        {
          "output_type": "stream",
          "name": "stdout",
          "text": [
            "Array Filled with 7 (3*3):\n",
            " [[7 7 7]\n",
            " [7 7 7]\n",
            " [7 7 7]]\n"
          ]
        }
      ]
    },
    {
      "cell_type": "markdown",
      "source": [
        "4. Return a new array of zeros with same shape and type as a given array.{Hint: np.zeros like}"
      ],
      "metadata": {
        "id": "HCKk_oJdMeFz"
      }
    },
    {
      "cell_type": "code",
      "source": [
        "given_array = np.array([[1,2],[3,4]])\n",
        "zeros_like_array = np.zeros_like(given_array)\n",
        "print(\"Array of Zeros Like Given Array:\\n\",zeros_like_array)"
      ],
      "metadata": {
        "colab": {
          "base_uri": "https://localhost:8080/"
        },
        "id": "MSGHWpRbMghg",
        "outputId": "6caaef59-c885-48a0-8420-5686d32d04fc"
      },
      "execution_count": 13,
      "outputs": [
        {
          "output_type": "stream",
          "name": "stdout",
          "text": [
            "Array of Zeros Like Given Array:\n",
            " [[0 0]\n",
            " [0 0]]\n"
          ]
        }
      ]
    },
    {
      "cell_type": "markdown",
      "source": [
        "5. Return a new array of ones with same shape and type as a given array.{Hint: np.ones like}"
      ],
      "metadata": {
        "id": "gY4EEdGvMrM0"
      }
    },
    {
      "cell_type": "code",
      "source": [
        "one_like_array = np.ones_like(given_array)\n",
        "print(\"Array of Ones Like Given Array:\\n\",one_like_array)"
      ],
      "metadata": {
        "colab": {
          "base_uri": "https://localhost:8080/"
        },
        "id": "7kyibQadMqxu",
        "outputId": "fac24509-58b2-48ab-c08d-d2e8ca600aeb"
      },
      "execution_count": 14,
      "outputs": [
        {
          "output_type": "stream",
          "name": "stdout",
          "text": [
            "Array of Ones Like Given Array:\n",
            " [[1 1]\n",
            " [1 1]]\n"
          ]
        }
      ]
    },
    {
      "cell_type": "markdown",
      "source": [
        "6. For an existing list new_list = [1,2,3,4] convert to an numpy array.{Hint: np.array()}"
      ],
      "metadata": {
        "id": "W6wnmN1NNBON"
      }
    },
    {
      "cell_type": "code",
      "source": [
        "new_list = [1,2,3,4]\n",
        "numpy_array = np.array(new_list)\n",
        "print(\"One Numpy Array from List:\\n\",numpy_array)"
      ],
      "metadata": {
        "colab": {
          "base_uri": "https://localhost:8080/"
        },
        "id": "WEUubmAoNDE8",
        "outputId": "12e0e75a-38bf-4c69-9e8a-1854b5f049f6"
      },
      "execution_count": 15,
      "outputs": [
        {
          "output_type": "stream",
          "name": "stdout",
          "text": [
            "One Numpy Array from List:\n",
            " [1 2 3 4]\n"
          ]
        }
      ]
    },
    {
      "cell_type": "markdown",
      "source": [
        "**Problem - 2: Array Manipulation: Numerical Ranges and Array indexing:**\n",
        "Complete the following tasks:\n",
        "1. Create an array with values ranging from 10 to 49. {Hint:np.arrange()}."
      ],
      "metadata": {
        "id": "PIlfprynNUur"
      }
    },
    {
      "cell_type": "code",
      "source": [
        "array_10_49 = np.arange(10,50)\n",
        "print(\"Value from 10 to 50:\\n\",array_10_49)"
      ],
      "metadata": {
        "colab": {
          "base_uri": "https://localhost:8080/"
        },
        "id": "z5sDglRyNY64",
        "outputId": "e29f546b-bc98-4efa-de00-db0445718023"
      },
      "execution_count": 17,
      "outputs": [
        {
          "output_type": "stream",
          "name": "stdout",
          "text": [
            "Value from 10 to 50:\n",
            " [10 11 12 13 14 15 16 17 18 19 20 21 22 23 24 25 26 27 28 29 30 31 32 33\n",
            " 34 35 36 37 38 39 40 41 42 43 44 45 46 47 48 49]\n"
          ]
        }
      ]
    },
    {
      "cell_type": "markdown",
      "source": [
        "2. Create a 3X3 matrix with values ranging from 0 to 8.\n",
        "{Hint:look for np.reshape()}"
      ],
      "metadata": {
        "id": "gkvy9wBnN1tT"
      }
    },
    {
      "cell_type": "code",
      "source": [
        "matrix_ = np.arange(9)\n",
        "matrix_3 = matrix_.reshape(3,3)\n",
        "print(\" 3*3 matrix with values from 0 to 8:\\n\",matrix_3)"
      ],
      "metadata": {
        "colab": {
          "base_uri": "https://localhost:8080/"
        },
        "id": "RJjSOFqiN4OP",
        "outputId": "bdb52c78-9131-469d-df0d-8fe07916ced8"
      },
      "execution_count": 21,
      "outputs": [
        {
          "output_type": "stream",
          "name": "stdout",
          "text": [
            " 3*3 matrix with values from 0 to 8:\n",
            " [[0 1 2]\n",
            " [3 4 5]\n",
            " [6 7 8]]\n"
          ]
        }
      ]
    },
    {
      "cell_type": "markdown",
      "source": [
        "3. Create a 3X3 identity matrix.{Hint:np.eye()}"
      ],
      "metadata": {
        "id": "FimOErbJOSja"
      }
    },
    {
      "cell_type": "code",
      "source": [
        "identity_matrix = np.eye(3, dtype=int)\n",
        "print(\"3*3 Identity matrix:\\n\",identity_matrix)\n"
      ],
      "metadata": {
        "colab": {
          "base_uri": "https://localhost:8080/"
        },
        "id": "X6Y1HJF_Oxbu",
        "outputId": "491a1245-adcd-4feb-f1e5-474b9c9aee18"
      },
      "execution_count": 23,
      "outputs": [
        {
          "output_type": "stream",
          "name": "stdout",
          "text": [
            "3*3 Identity matrix:\n",
            " [[1 0 0]\n",
            " [0 1 0]\n",
            " [0 0 1]]\n"
          ]
        }
      ]
    },
    {
      "cell_type": "markdown",
      "source": [
        "4. Create a random array of size 30 and find the mean of the array.\n",
        "{Hint:check for np.random.random() and array.mean() function}"
      ],
      "metadata": {
        "id": "dks2C7eHQCBr"
      }
    },
    {
      "cell_type": "code",
      "source": [
        "random_array= np.random.random(30)\n",
        "mean_value = random_array.mean()\n",
        "print(\"Mean of Random array(size 30):\\n\",mean_value)"
      ],
      "metadata": {
        "colab": {
          "base_uri": "https://localhost:8080/"
        },
        "id": "dhAKujtjQEAe",
        "outputId": "5249e09e-9f61-4b4e-d134-224496d8425d"
      },
      "execution_count": 28,
      "outputs": [
        {
          "output_type": "stream",
          "name": "stdout",
          "text": [
            "Mean of Random array(size 30):\n",
            " 0.5458563032340967\n"
          ]
        }
      ]
    },
    {
      "cell_type": "markdown",
      "source": [
        "5. Create a 10X10 array with random values and find the minimum and maximum values."
      ],
      "metadata": {
        "id": "xcikuxSCQuWo"
      }
    },
    {
      "cell_type": "code",
      "source": [
        "random_matrix = np.random.random((10,10))\n",
        "print(\"Random Matrix (10*10):\\n\",random_matrix)\n",
        "min_value = random_matrix.min()\n",
        "max_value = random_matrix.max()\n",
        "\n",
        "print(\"Minimum Value:\",min_value)\n",
        "print(\"Maximum Value:\",max_value)"
      ],
      "metadata": {
        "colab": {
          "base_uri": "https://localhost:8080/"
        },
        "id": "moHn75K7QwXD",
        "outputId": "6f5f515c-8dbb-499e-d551-780d7eafeb22"
      },
      "execution_count": 31,
      "outputs": [
        {
          "output_type": "stream",
          "name": "stdout",
          "text": [
            "Random Matrix (10*10):\n",
            " [[0.76683474 0.74372689 0.69669158 0.41627943 0.13570376 0.21375531\n",
            "  0.92815884 0.13976464 0.29298325 0.33195538]\n",
            " [0.4188817  0.00940841 0.12975283 0.1966875  0.37322716 0.9074189\n",
            "  0.95987005 0.98295611 0.00176805 0.40423118]\n",
            " [0.63474326 0.24294561 0.07246039 0.99507952 0.88132014 0.81444783\n",
            "  0.5674079  0.69454402 0.6976864  0.28757319]\n",
            " [0.95143725 0.68333279 0.16041633 0.15899399 0.22007767 0.70840838\n",
            "  0.93839659 0.12826946 0.35320526 0.85036463]\n",
            " [0.339198   0.52703112 0.47981081 0.16588933 0.95476463 0.48083101\n",
            "  0.99613358 0.10158363 0.8100754  0.37606508]\n",
            " [0.54153728 0.14705224 0.29082552 0.24463084 0.03364182 0.90837326\n",
            "  0.74111145 0.40833012 0.30034684 0.58913513]\n",
            " [0.9907397  0.5940559  0.19703587 0.01071897 0.88273523 0.1649515\n",
            "  0.03566152 0.46437298 0.42488335 0.90344111]\n",
            " [0.71370896 0.49151719 0.4276983  0.41704791 0.89164461 0.45072084\n",
            "  0.2950083  0.18605003 0.96912627 0.41124293]\n",
            " [0.50077797 0.12973803 0.86471628 0.3441652  0.83982079 0.95641927\n",
            "  0.9658402  0.63810435 0.94406884 0.66353458]\n",
            " [0.0376232  0.40362843 0.98005629 0.51243587 0.35296813 0.07370005\n",
            "  0.0704785  0.5836015  0.45283925 0.70870213]]\n",
            "Minimum Value: 0.0017680492913385581\n",
            "Maximum Value: 0.996133580128402\n"
          ]
        }
      ]
    },
    {
      "cell_type": "markdown",
      "source": [
        "6. Create a zero array of size 10 and replace 5th element with 1."
      ],
      "metadata": {
        "id": "fN04cCczRMkO"
      }
    },
    {
      "cell_type": "code",
      "source": [
        "zero_array = np.zeros(10 ,dtype=int)\n",
        "zero_array[4] = 1\n",
        "print(\"Replacing 5th element with 1: \\n\",zero_array)"
      ],
      "metadata": {
        "colab": {
          "base_uri": "https://localhost:8080/"
        },
        "id": "Lok4a9kVRQmC",
        "outputId": "c1301c2a-ac5e-4abc-ede0-2e28f6e366f5"
      },
      "execution_count": 34,
      "outputs": [
        {
          "output_type": "stream",
          "name": "stdout",
          "text": [
            "Replacing 5th element with 1: \n",
            " [0 0 0 0 1 0 0 0 0 0]\n"
          ]
        }
      ]
    },
    {
      "cell_type": "markdown",
      "source": [
        "7. Reverse an array arr = [1,2,0,0,4,0]."
      ],
      "metadata": {
        "id": "aBgGqWvhRkEJ"
      }
    },
    {
      "cell_type": "code",
      "source": [
        "arr =np.array([1,2,0,0,4,0])\n",
        "reversed_arr = arr[::-1]\n",
        "print(\"Reversed array is:\\n\",reversed_arr)"
      ],
      "metadata": {
        "colab": {
          "base_uri": "https://localhost:8080/"
        },
        "id": "wlQiWo8cRllQ",
        "outputId": "6eb707ac-ac24-47bc-a262-74384a6383f1"
      },
      "execution_count": 35,
      "outputs": [
        {
          "output_type": "stream",
          "name": "stdout",
          "text": [
            "Reversed array is:\n",
            " [0 4 0 0 2 1]\n"
          ]
        }
      ]
    },
    {
      "cell_type": "markdown",
      "source": [
        "8. Create a 2d array with 1 on border and 0 inside."
      ],
      "metadata": {
        "id": "pWxVAS0BRy0q"
      }
    },
    {
      "cell_type": "code",
      "source": [
        "border_array = np.ones((5,5),dtype=int)\n",
        "border_array[1:-1, 1:-1] =0\n",
        "\n",
        "print(\"2d array witj 1 on border and 0 inside:\\n\",border_array)"
      ],
      "metadata": {
        "colab": {
          "base_uri": "https://localhost:8080/"
        },
        "id": "DK2MHqgWR0vl",
        "outputId": "f6c8d7ca-4cd8-468f-8507-8d52e9bf4bda"
      },
      "execution_count": 37,
      "outputs": [
        {
          "output_type": "stream",
          "name": "stdout",
          "text": [
            "2d array witj 1 on border and 0 inside:\n",
            " [[1 1 1 1 1]\n",
            " [1 0 0 0 1]\n",
            " [1 0 0 0 1]\n",
            " [1 0 0 0 1]\n",
            " [1 1 1 1 1]]\n"
          ]
        }
      ]
    },
    {
      "cell_type": "markdown",
      "source": [
        "9. Create a 8X8 matrix and fill it with a checkerboard pattern."
      ],
      "metadata": {
        "id": "BzVakjTUSJPm"
      }
    },
    {
      "cell_type": "code",
      "source": [
        "checkboard = np.zeros((8,8),dtype=int)\n",
        "checkboard[1::2, ::2] =1\n",
        "checkboard[::2, 1::2] =1\n",
        "print(\"8*8 CheckBoard Pattern:\\n\",checkboard)"
      ],
      "metadata": {
        "colab": {
          "base_uri": "https://localhost:8080/"
        },
        "id": "5EKIVBIKSK73",
        "outputId": "9fcb7542-04b9-469e-adbf-1c3010b60202"
      },
      "execution_count": 39,
      "outputs": [
        {
          "output_type": "stream",
          "name": "stdout",
          "text": [
            "8*8 CheckBoard Pattern:\n",
            " [[0 1 0 1 0 1 0 1]\n",
            " [1 0 1 0 1 0 1 0]\n",
            " [0 1 0 1 0 1 0 1]\n",
            " [1 0 1 0 1 0 1 0]\n",
            " [0 1 0 1 0 1 0 1]\n",
            " [1 0 1 0 1 0 1 0]\n",
            " [0 1 0 1 0 1 0 1]\n",
            " [1 0 1 0 1 0 1 0]]\n"
          ]
        }
      ]
    },
    {
      "cell_type": "markdown",
      "source": [
        "**Problem - 3: Array Operations:**\n",
        "\n",
        "For the following arrays:\n",
        "x = np.array([[1,2],[3,5]]) and\n",
        "\n",
        "y = np.array([[5,6],[7,8]]);\n",
        "\n",
        "v = np.array([9,10]) and\n",
        "\n",
        "w = np.array([11,12]);"
      ],
      "metadata": {
        "id": "Pv3KuKLzSnVc"
      }
    },
    {
      "cell_type": "markdown",
      "source": [
        "1. Add the two array."
      ],
      "metadata": {
        "id": "xAtU155BS5_u"
      }
    },
    {
      "cell_type": "code",
      "source": [
        "x = np.array([[1,2],[3,5]])\n",
        "y = np.array([[5,6],[7,8]])\n",
        "v = np.array([9,10])\n",
        "w = np.array([11,12])\n",
        "\n",
        "add_xy = np.add(x,y)\n",
        "print(\"Addition of two array x and y is:\\n \",add_xy)\n"
      ],
      "metadata": {
        "colab": {
          "base_uri": "https://localhost:8080/"
        },
        "id": "fCJ3O1t_SoVy",
        "outputId": "75d285f7-dd1c-4427-8c21-9b2a7ad5b1b1"
      },
      "execution_count": 43,
      "outputs": [
        {
          "output_type": "stream",
          "name": "stdout",
          "text": [
            "Addition of two array x and y is:\n",
            "  [[ 6  8]\n",
            " [10 13]]\n"
          ]
        }
      ]
    },
    {
      "cell_type": "markdown",
      "source": [
        "2. Subtract the two array."
      ],
      "metadata": {
        "id": "UVs3HK0vTpoc"
      }
    },
    {
      "cell_type": "code",
      "source": [
        "sub_xy = np.subtract(x,y)\n",
        "print(\"Subtraction of two array x and y is:\\n \",sub_xy)"
      ],
      "metadata": {
        "colab": {
          "base_uri": "https://localhost:8080/"
        },
        "id": "T1TBIqVsTrj3",
        "outputId": "4c37f7bf-bedb-41f5-b10e-62ec1fc40679"
      },
      "execution_count": 44,
      "outputs": [
        {
          "output_type": "stream",
          "name": "stdout",
          "text": [
            "Subtraction of two array x and y is:\n",
            "  [[-4 -4]\n",
            " [-4 -3]]\n"
          ]
        }
      ]
    },
    {
      "cell_type": "markdown",
      "source": [
        "3. Multiply the array with any integers of your choice."
      ],
      "metadata": {
        "id": "SthKcO_ZT0Hi"
      }
    },
    {
      "cell_type": "code",
      "source": [
        "multiply_x = x*2\n",
        "print(\"Multiplying of x by 2: \\n\",multiply_x)"
      ],
      "metadata": {
        "colab": {
          "base_uri": "https://localhost:8080/"
        },
        "id": "SuuUzn1ST0eZ",
        "outputId": "f9a87e3f-4774-4fc1-c986-d6fba19504be"
      },
      "execution_count": 45,
      "outputs": [
        {
          "output_type": "stream",
          "name": "stdout",
          "text": [
            "Multiplying of x by 2: \n",
            " [[ 2  4]\n",
            " [ 6 10]]\n"
          ]
        }
      ]
    },
    {
      "cell_type": "markdown",
      "source": [
        "4. Find the square of each element of the array."
      ],
      "metadata": {
        "id": "yo53aM8XUE5-"
      }
    },
    {
      "cell_type": "code",
      "source": [
        "square_x = np.square(x)\n",
        "print(\"Square of each element in x:\\n\",square_x)"
      ],
      "metadata": {
        "colab": {
          "base_uri": "https://localhost:8080/"
        },
        "id": "XQdYlO9zUIjJ",
        "outputId": "fade768a-cb3b-4a0b-b27c-cdecc592b8a9"
      },
      "execution_count": 46,
      "outputs": [
        {
          "output_type": "stream",
          "name": "stdout",
          "text": [
            "Square of each element in x:\n",
            " [[ 1  4]\n",
            " [ 9 25]]\n"
          ]
        }
      ]
    },
    {
      "cell_type": "markdown",
      "source": [
        "5. Find the dot product between: v(and)w ; x(and)v ; x(and)y."
      ],
      "metadata": {
        "id": "D5rtTLS5UUog"
      }
    },
    {
      "cell_type": "code",
      "source": [
        "dot_vw = np.dot(v,w)\n",
        "dot_xv = np.dot(x,v)\n",
        "dot_xy = np.dot(x,y)\n",
        "\n",
        "print(\"Dot Products:\")\n",
        "print(\"Dot product of v and w:\",dot_vw)\n",
        "print(\"Dot products of x and v:\", dot_xv)\n",
        "print(\"Dot products of x and y:\",dot_xy)"
      ],
      "metadata": {
        "colab": {
          "base_uri": "https://localhost:8080/"
        },
        "id": "MO9V5XkPUcWA",
        "outputId": "a4fbf7ce-a06b-4e50-f162-2c98cfa70f16"
      },
      "execution_count": 48,
      "outputs": [
        {
          "output_type": "stream",
          "name": "stdout",
          "text": [
            "Dot Products:\n",
            "Dot product of v and w: 219\n",
            "Dot products of x and v: [29 77]\n",
            "Dot products of x and y: [[19 22]\n",
            " [50 58]]\n"
          ]
        }
      ]
    },
    {
      "cell_type": "markdown",
      "source": [
        "6. Concatenate x(and)y along row and Concatenate v(and)w along column.\n",
        "{Hint:try np.concatenate() or np.vstack() functions."
      ],
      "metadata": {
        "id": "uI8258iNVBIJ"
      }
    },
    {
      "cell_type": "code",
      "source": [
        "concat_xy = np.concatenate((x,y),axis =0)\n",
        "print(\"Concatenate of x and y along rows: \\n\",concat_xy)\n",
        "\n",
        "concat_vw = np.vstack((v,w))\n",
        "print(\"Concatenate of v and w along columns: \\n\",concat_vw)"
      ],
      "metadata": {
        "colab": {
          "base_uri": "https://localhost:8080/"
        },
        "id": "dhQUGvKZVDhi",
        "outputId": "d1f75c7c-f68c-44f5-d41d-32dbb513a0fe"
      },
      "execution_count": 56,
      "outputs": [
        {
          "output_type": "stream",
          "name": "stdout",
          "text": [
            "Concatenate of x and y along rows: \n",
            " [[1 2]\n",
            " [3 5]\n",
            " [5 6]\n",
            " [7 8]]\n",
            "Concatenate of v and w along columns: \n",
            " [[ 9 10]\n",
            " [11 12]]\n"
          ]
        }
      ]
    },
    {
      "cell_type": "markdown",
      "source": [
        "7. Concatenate x(and)v; if you get an error, observe and explain why did you get the error?"
      ],
      "metadata": {
        "id": "j2HaemctV_7v"
      }
    },
    {
      "cell_type": "code",
      "source": [
        "try:\n",
        "  concat_xv = np.concatenate((x,v), axis=0)\n",
        "  print(\"Concatenate of x and v: \\n\",concat_xv)\n",
        "except ValueError as e:\n",
        "  print(\"Error in concatenating  x and v:\")\n",
        "  print(e)"
      ],
      "metadata": {
        "colab": {
          "base_uri": "https://localhost:8080/"
        },
        "id": "YDg_rnY0WLnF",
        "outputId": "133e585d-7b27-40ef-d8ec-65bdc3cda3a8"
      },
      "execution_count": 60,
      "outputs": [
        {
          "output_type": "stream",
          "name": "stdout",
          "text": [
            "Error in concatenating  x and v:\n",
            "all the input arrays must have same number of dimensions, but the array at index 0 has 2 dimension(s) and the array at index 1 has 1 dimension(s)\n"
          ]
        }
      ]
    },
    {
      "cell_type": "markdown",
      "source": [
        "**Problem - 4: Matrix Operations:**\n",
        "\n",
        "• For the following arrays:\n",
        "\n",
        "A = np.array([[3,4],[7,8]]) and\n",
        "\n",
        " B = np.array([[5,3],[2,1]]);"
      ],
      "metadata": {
        "id": "AxgGy7h4W0_l"
      }
    },
    {
      "cell_type": "markdown",
      "source": [
        "Prove following with Numpy:\n",
        "1. Prove A.A−1 = I.\n",
        "2. Prove AB ̸= BA.\n",
        "3. Prove (AB)ᵀ = BᵀAᵀ"
      ],
      "metadata": {
        "id": "5hnBt2D1W51v"
      }
    },
    {
      "cell_type": "code",
      "source": [
        "# 1. Prove A.A−1 = I.\n",
        "\n",
        "A = np.array([[3,4],[7,8]])\n",
        "B = np.array([[5,3],[2,1]])\n",
        "\n",
        "from numpy import linalg\n",
        "\n",
        "inverse_A = np.linalg.inv(A)\n",
        "result1 = np.dot(A, inverse_A)\n",
        "print(f\"Result of A.A−1:\\n{np.round(result1)}\")\n",
        "\n",
        "# 2. Prove AB ̸= BA.\n",
        "\n",
        "prod_AB = np.dot(A, B)\n",
        "prod_BA = np.dot(B, A)\n",
        "\n",
        "check = np.array_equal(A, B)\n",
        "print(\"\\n\")\n",
        "if check == True:\n",
        "  print(\"AB = BA\")\n",
        "else:\n",
        "  print(\"AB != BA\")\n",
        "\n",
        "\n",
        "# 3. Prove (AB)T = BTAT\n",
        "\n",
        "transpose_A = np.transpose(A)\n",
        "transpose_B = np.transpose(B)\n",
        "\n",
        "prod_BTAT = np.dot(transpose_B, transpose_A)\n",
        "transpose_AB = np.transpose(prod_AB)\n",
        "\n",
        "check1 = np.array_equal(transpose_AB, prod_BTAT)\n",
        "print(\"\\n\")\n",
        "if check1 == True:\n",
        "  print(\"(AB)ᵀ = Bᵀ.Aᵀ\")\n",
        "else:\n",
        "  print(\"(AB)ᵀ != Bᵀ.Aᵀ\")"
      ],
      "metadata": {
        "colab": {
          "base_uri": "https://localhost:8080/"
        },
        "id": "HSJHL5GOW9ej",
        "outputId": "39327eca-c516-48e2-d66c-7c6c575dd1d7"
      },
      "execution_count": 68,
      "outputs": [
        {
          "output_type": "stream",
          "name": "stdout",
          "text": [
            "Result of A.A−1:\n",
            "[[1. 0.]\n",
            " [0. 1.]]\n",
            "\n",
            "\n",
            "AB != BA\n",
            "\n",
            "\n",
            "(AB)ᵀ = Bᵀ.Aᵀ\n"
          ]
        }
      ]
    },
    {
      "cell_type": "markdown",
      "source": [
        "• Solve the following system of Linear equation using Inverse Methods.\n",
        "\n",
        "2x − 3y + z = −1\n",
        "\n",
        "x − y + 2z = −3\n",
        "\n",
        "3x + y − z = 9\n",
        "\n",
        "\n",
        "{Hint: First use Numpy array to represent the equation in Matrix form. Then Solve for: AX = B}"
      ],
      "metadata": {
        "id": "_3BQbDmlcHZw"
      }
    },
    {
      "cell_type": "code",
      "source": [
        "A = np.array ([[2,-3,1],\n",
        "               [1,-1,2],\n",
        "               [3,1,-1]])\n",
        "\n",
        "print(\"Cofficinet of Matrix A\",A)\n",
        "\n",
        "B = np.array([-1,-3,9])\n",
        "print(\"Cofficinet of Matrix B\",B)\n",
        "\n",
        "\n",
        "A_inv = np.linalg.inv(A)\n",
        "x_solution = np.dot(A_inv,B ).astype(int)\n",
        "\n",
        "print(\"Solution for linear Equations:\")\n",
        "print(\"  x=\", x_solution[0], )\n",
        "print(\"  y=\", x_solution[1])\n",
        "print(\"  z=\", x_solution[2])\n"
      ],
      "metadata": {
        "colab": {
          "base_uri": "https://localhost:8080/"
        },
        "id": "mAOZT5F8cIk8",
        "outputId": "a2ea2dd1-45c2-4b67-d03e-4112760da9ce"
      },
      "execution_count": 82,
      "outputs": [
        {
          "output_type": "stream",
          "name": "stdout",
          "text": [
            "Cofficinet of Matrix A [[ 2 -3  1]\n",
            " [ 1 -1  2]\n",
            " [ 3  1 -1]]\n",
            "Cofficinet of Matrix B [-1 -3  9]\n",
            "Solution for linear Equations:\n",
            "  x= 2\n",
            "  y= 1\n",
            "  z= -2\n"
          ]
        }
      ]
    },
    {
      "cell_type": "markdown",
      "source": [
        "• Now: solve the above equation using np.linalg.inv function.{Explore more about ”linalg” func-\n",
        "tion of Numpy}"
      ],
      "metadata": {
        "id": "M6tele_neLUi"
      }
    },
    {
      "cell_type": "code",
      "source": [
        "A = np.array([[2, -3, 1],\n",
        "              [1, -1, 2],\n",
        "              [3, 1, -1]])\n",
        "B = np.array([-1, -3, 9])\n",
        "\n",
        "inv_A = np.linalg.inv(A)\n",
        "X = np.dot(inv_A, B)\n",
        "print(\"Solution vector X using np.linalg.inv function:\")\n",
        "print(X)"
      ],
      "metadata": {
        "colab": {
          "base_uri": "https://localhost:8080/"
        },
        "id": "-cDn5Q7BeL1O",
        "outputId": "7cd36bd0-eb2c-44cc-9e51-8365c46fb216"
      },
      "execution_count": 83,
      "outputs": [
        {
          "output_type": "stream",
          "name": "stdout",
          "text": [
            "Solution vector X using np.linalg.inv function:\n",
            "[ 2.  1. -2.]\n"
          ]
        }
      ]
    },
    {
      "cell_type": "markdown",
      "source": [
        "**Experiment: How Fast is Numpy?**\n",
        "\n",
        "1. Element-wise Addition:\n",
        "\n",
        "\n",
        "• Using Python Lists, perform element-wise addition of two lists of size 1, 000, 000. Measure\n",
        "and Print the time taken for this operation.\n",
        "\n",
        "\n",
        "• Using Numpy Arrays, Repeat the calculation and measure and print the time taken for\n",
        "this operation."
      ],
      "metadata": {
        "id": "_OALqHwDf3v1"
      }
    },
    {
      "cell_type": "code",
      "source": [
        "import time\n",
        "\n",
        "list1 = list(range(1,1_000_001))\n",
        "list2 = list(range(1_000_001, 2_000_001))\n",
        "\n",
        "array1 = np.array(list1)\n",
        "array2 = np.array(list2)\n",
        "\n",
        "start_time = time.time()\n",
        "result_time = [a+b for a,b in zip(list1,list2)]\n",
        "end_time = time.time()\n",
        "list_time = end_time-start_time\n",
        "print(f\"The time taken for element-wise addisition using Python lis:{list_time:.6f}seconds\")\n",
        "\n",
        "\n",
        "\n",
        "start_time = time.time()\n",
        "result_time = array1 + array2\n",
        "end_time = time.time()\n",
        "array_time = end_time-start_time\n",
        "print(f\"The time taken for element-wise addisition using Numpy arrays:{array_time:.6f}seconds\")\n",
        "\n",
        "\n"
      ],
      "metadata": {
        "colab": {
          "base_uri": "https://localhost:8080/"
        },
        "id": "6RL0Hwyyf7T4",
        "outputId": "d1564c6c-20e0-4426-abea-85d55e4f9e03"
      },
      "execution_count": 88,
      "outputs": [
        {
          "output_type": "stream",
          "name": "stdout",
          "text": [
            "The time taken for element-wise addisition ising Python lis:0.101266seconds\n",
            "The time taken for element-wise addisition ising Numpy arrays:0.018124seconds\n"
          ]
        }
      ]
    },
    {
      "cell_type": "markdown",
      "source": [
        "2. Element-wise Multiplication\n",
        "\n",
        "\n",
        "• Using Python Lists, perform element-wise multiplication of two lists of size 1, 000, 000.\n",
        "Measure and Print the time taken for this operation.\n",
        "\n",
        "\n",
        "• Using Numpy Arrays, Repeat the calculation and measure and print the time taken for\n",
        "this operation."
      ],
      "metadata": {
        "id": "Gc6XrqPciWGX"
      }
    },
    {
      "cell_type": "code",
      "source": [
        "list1 = list(range(1,1_000_001))\n",
        "list2 = list(range(1_000_001, 2_000_001))\n",
        "\n",
        "\n",
        "array1 = np.array(list1)\n",
        "array2 = np.array(list2)\n",
        "\n",
        "\n",
        "start_time = time.time()\n",
        "result_time = [a*b for a,b in zip(list1,list2)]\n",
        "end_time = time.time()\n",
        "list_time = end_time-start_time\n",
        "print(f\"The time taken for element-wise multiplication using Python lis:{list_time:.6f}seconds\")\n",
        "\n",
        "\n",
        "start_time = time.time()\n",
        "result_time = array1 * array2\n",
        "end_time = time.time()\n",
        "array_time = end_time-start_time\n",
        "print(f\"The time taken for element-wise multiplication using Numpy arrays:{array_time:.6f}seconds\")\n",
        "\n",
        "\n",
        "\n",
        "\n",
        "\n"
      ],
      "metadata": {
        "colab": {
          "base_uri": "https://localhost:8080/"
        },
        "id": "Y0MnlgWhiZs0",
        "outputId": "78e7cba5-e0d3-4309-aa33-bec59013f021"
      },
      "execution_count": 93,
      "outputs": [
        {
          "output_type": "stream",
          "name": "stdout",
          "text": [
            "The time taken for element-wise multiplication using Python lis:0.061251seconds\n",
            "The time taken for element-wise multiplication using Numpy arrays:0.012839seconds\n"
          ]
        }
      ]
    },
    {
      "cell_type": "markdown",
      "source": [
        "3. Dot Product\n",
        "\n",
        "\n",
        "• Using Python Lists, compute the dot product of two lists of size 1, 000, 000. Measure and\n",
        "Print the time taken for this operation.\n",
        "\n",
        "\n",
        "• Using Numpy Arrays, Repeat the calculation and measure and print the time taken for\n",
        "this operation."
      ],
      "metadata": {
        "id": "B9qvqQ4TjLlj"
      }
    },
    {
      "cell_type": "code",
      "source": [
        "\n",
        "list1 = list(range(1,1_000_001))\n",
        "list2 = list(range(1_000_001, 2_000_001))\n",
        "\n",
        "\n",
        "array1 = np.array(list1)\n",
        "array2 = np.array(list2)\n",
        "\n",
        "start_time = time.time()\n",
        "dot_product_list = sum(a*b for a,b in zip(list1,list2))\n",
        "end_time = time.time()\n",
        "list_time = end_time-start_time\n",
        "print(f\"The time taken for element-wise dot product using Python lis:{list_time:.6f}seconds\")\n",
        "\n",
        "\n",
        "start_time = time.time()\n",
        "dot_product_array = np.dot(array1 , array2)\n",
        "end_time = time.time()\n",
        "array_time = end_time-start_time\n",
        "print(f\"The time taken for element-wise dot product using Numpy arrays:{array_time:.6f}seconds\")\n",
        "\n",
        "\n",
        "\n"
      ],
      "metadata": {
        "colab": {
          "base_uri": "https://localhost:8080/"
        },
        "id": "ILckSNdBjR7Q",
        "outputId": "cbc84d2c-ddea-404c-8cd5-4e15e67d5012"
      },
      "execution_count": 92,
      "outputs": [
        {
          "output_type": "stream",
          "name": "stdout",
          "text": [
            "The time taken for element-wise dot product using Python lis:0.079739seconds\n",
            "The time taken for element-wise dot product using Numpy arrays:0.001834seconds\n"
          ]
        }
      ]
    },
    {
      "cell_type": "markdown",
      "source": [
        "4. Matrix Multiplication\n",
        "\n",
        "• Using Python lists, perform matrix multiplication of two matrices of size 1000x1000. Mea-\n",
        "sure and print the time taken for this operation.\n",
        "\n",
        "• Using NumPy arrays, perform matrix multiplication of two matrices of size 1000x1000.\n",
        "Measure and print the time taken for this operation."
      ],
      "metadata": {
        "id": "XsKGSJlFkPAJ"
      }
    },
    {
      "cell_type": "code",
      "source": [
        "size = 1000\n",
        "\n",
        "\n",
        "matrix1 = np.random.rand(size, size)\n",
        "matrix2 = np.random.rand(size, size)\n",
        "\n",
        "matrix1_list = matrix1.tolist()\n",
        "matrix2_list = matrix2.tolist()\n",
        "\n",
        "def matrix_mult(A,B):\n",
        "  result = []\n",
        "  for row in A:\n",
        "    new_row = []\n",
        "    for col in zip(*B):\n",
        "      new_row.append(sum(a*b for a,b in zip(row,col)))\n",
        "    result.append(new_row)\n",
        "  return result\n",
        "\n",
        "start_time = time.time()\n",
        "result_list = matrix_mult(matrix1_list,matrix2_list);\n",
        "end_time = time.time()\n",
        "print(f\"The time taken for matrix multiplication using python list  :{array_time:.6f}seconds\")\n",
        "\n",
        "start_time = time.time()\n",
        "result_matrix = np.dot(matrix1, matrix2)\n",
        "end_time = time.time()\n",
        "array_time = end_time-start_time\n",
        "print(f\"The time taken for matrix multiplication using Numpy arrays:{array_time:.6f}seconds\")\n",
        "\n",
        "\n"
      ],
      "metadata": {
        "colab": {
          "base_uri": "https://localhost:8080/"
        },
        "id": "2rioevI7kP1g",
        "outputId": "68b4b3c7-422f-4650-f859-4cebc92f3b26"
      },
      "execution_count": 98,
      "outputs": [
        {
          "output_type": "stream",
          "name": "stdout",
          "text": [
            "The time taken for matrix multiplication using python list  :0.068233seconds\n",
            "The time taken for matrix multiplication using Numpy arrays:0.065667seconds\n"
          ]
        }
      ]
    }
  ]
}